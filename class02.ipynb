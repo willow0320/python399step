{
  "nbformat": 4,
  "nbformat_minor": 0,
  "metadata": {
    "colab": {
      "provenance": [],
      "toc_visible": true,
      "authorship_tag": "ABX9TyOntcmnLb/uwKGFni1tLncU",
      "include_colab_link": true
    },
    "kernelspec": {
      "name": "python3",
      "display_name": "Python 3"
    },
    "language_info": {
      "name": "python"
    }
  },
  "cells": [
    {
      "cell_type": "markdown",
      "metadata": {
        "id": "view-in-github",
        "colab_type": "text"
      },
      "source": [
        "<a href=\"https://colab.research.google.com/github/willow0320/python399step/blob/main/class02.ipynb\" target=\"_parent\"><img src=\"https://colab.research.google.com/assets/colab-badge.svg\" alt=\"Open In Colab\"/></a>"
      ]
    },
    {
      "cell_type": "markdown",
      "source": [
        "# 자료형"
      ],
      "metadata": {
        "id": "sGsJuS6LlUsb"
      }
    },
    {
      "cell_type": "markdown",
      "source": [
        "## 1-1. 2진수\n",
        "* 컴퓨터가 사용하는 2진수에 대한 이해\n",
        "\n",
        "```\n",
        "10진수  ->  2진수\n",
        "9      ->  1 0 0 1\n",
        "1. 9를 2로 나누면 몫은 4, 나머지 1\n",
        "2. 4를 2로 나누면 몫은 2, 나머지 0\n",
        "3. 2를 2로 나누면 몫은 1, 나머지 0\n",
        "4. 1을 2로 나누면 몫은 0, 나머지 1\n",
        "```\n",
        "\n",
        "```\n",
        "10진수  ->    2진수\n",
        "22     ->    10110\n",
        "1. 22를 2로 나누면 몫은 11, 나머지 0\n",
        "2. 11을 2로 나누면 몫은 5, 나머지 1\n",
        "3. 5를 2로 나누면 몫은 2, 나머지 1\n",
        "4. 2를 2로 나누면 몫은 1, 나머지 0\n",
        "5. 1을 2로 나누면 몫은 0, 나머지 1\n",
        "```"
      ],
      "metadata": {
        "id": "KkoudeqFpGwZ"
      }
    },
    {
      "cell_type": "markdown",
      "source": [
        "## 1-2. 자료형\n",
        "* 자료형을 확인하려면 type()을 사용"
      ],
      "metadata": {
        "id": "-heQ8tXGpg6M"
      }
    },
    {
      "cell_type": "code",
      "source": [
        "type(74)"
      ],
      "metadata": {
        "id": "_DoVhxrXp8QF",
        "outputId": "496751f2-b207-4e6d-905a-cdbc14a1ff1f",
        "colab": {
          "base_uri": "https://localhost:8080/"
        }
      },
      "execution_count": 3,
      "outputs": [
        {
          "output_type": "execute_result",
          "data": {
            "text/plain": [
              "int"
            ]
          },
          "metadata": {},
          "execution_count": 3
        }
      ]
    },
    {
      "cell_type": "code",
      "source": [
        "type(3.141592)"
      ],
      "metadata": {
        "id": "K5G_6DD7qKCq",
        "outputId": "1616df7d-e0f0-419b-d296-abfe5ab81085",
        "colab": {
          "base_uri": "https://localhost:8080/"
        }
      },
      "execution_count": 4,
      "outputs": [
        {
          "output_type": "execute_result",
          "data": {
            "text/plain": [
              "float"
            ]
          },
          "metadata": {},
          "execution_count": 4
        }
      ]
    },
    {
      "cell_type": "code",
      "source": [
        "type('A')"
      ],
      "metadata": {
        "id": "AACqVRBkqLfl",
        "outputId": "e232a197-2854-4966-ff61-4e182b0cbc6a",
        "colab": {
          "base_uri": "https://localhost:8080/"
        }
      },
      "execution_count": 5,
      "outputs": [
        {
          "output_type": "execute_result",
          "data": {
            "text/plain": [
              "str"
            ]
          },
          "metadata": {},
          "execution_count": 5
        }
      ]
    },
    {
      "cell_type": "code",
      "source": [
        "type(True)"
      ],
      "metadata": {
        "id": "bXKnrbP-qMYy",
        "outputId": "c97193ed-38ea-49ba-f72d-103823aa2a93",
        "colab": {
          "base_uri": "https://localhost:8080/"
        }
      },
      "execution_count": 15,
      "outputs": [
        {
          "output_type": "execute_result",
          "data": {
            "text/plain": [
              "bool"
            ]
          },
          "metadata": {},
          "execution_count": 15
        }
      ]
    },
    {
      "cell_type": "markdown",
      "source": [
        "# 숫자형"
      ],
      "metadata": {
        "id": "WYSuOHJuqQFv"
      }
    },
    {
      "cell_type": "markdown",
      "source": [
        "## 2-1. 정수형\n",
        "* 소수점이 없는 데이터"
      ],
      "metadata": {
        "id": "mcB6us5OqWt_"
      }
    },
    {
      "cell_type": "code",
      "source": [
        "a=1024*1024*1024*1024\n",
        "type(a)"
      ],
      "metadata": {
        "id": "aWWHNf-dsPeI",
        "outputId": "58997130-9bf5-4d11-de7d-b3ac8b383ec1",
        "colab": {
          "base_uri": "https://localhost:8080/"
        }
      },
      "execution_count": 18,
      "outputs": [
        {
          "output_type": "execute_result",
          "data": {
            "text/plain": [
              "int"
            ]
          },
          "metadata": {},
          "execution_count": 18
        }
      ]
    },
    {
      "cell_type": "code",
      "source": [
        "a"
      ],
      "metadata": {
        "id": "XUbokW4QsbYS",
        "outputId": "4a7ce097-ef0a-4c7a-c326-c9312e0add87",
        "colab": {
          "base_uri": "https://localhost:8080/"
        }
      },
      "execution_count": 19,
      "outputs": [
        {
          "output_type": "execute_result",
          "data": {
            "text/plain": [
              "1099511627776"
            ]
          },
          "metadata": {},
          "execution_count": 19
        }
      ]
    },
    {
      "cell_type": "code",
      "source": [
        "b=0b1010\n",
        "type(b)"
      ],
      "metadata": {
        "id": "-UiI1vOQseF2",
        "outputId": "59c82eb0-2a40-4df5-c57c-101b5a35ae45",
        "colab": {
          "base_uri": "https://localhost:8080/"
        }
      },
      "execution_count": 20,
      "outputs": [
        {
          "output_type": "execute_result",
          "data": {
            "text/plain": [
              "int"
            ]
          },
          "metadata": {},
          "execution_count": 20
        }
      ]
    },
    {
      "cell_type": "code",
      "source": [
        "b"
      ],
      "metadata": {
        "id": "jkpk_DWnskpn",
        "outputId": "6af1076f-1cc7-4e84-d2e1-57569d75970f",
        "colab": {
          "base_uri": "https://localhost:8080/"
        }
      },
      "execution_count": 21,
      "outputs": [
        {
          "output_type": "execute_result",
          "data": {
            "text/plain": [
              "10"
            ]
          },
          "metadata": {},
          "execution_count": 21
        }
      ]
    },
    {
      "cell_type": "markdown",
      "source": [
        "## 2-2. 실수형\n",
        "* 소수점이 있는 데이터"
      ],
      "metadata": {
        "id": "9ls6gPIkqd1h"
      }
    },
    {
      "cell_type": "code",
      "source": [
        "c=3.141592\n",
        "type(c)"
      ],
      "metadata": {
        "id": "TGPiCeDpsomy",
        "outputId": "d65bb279-792c-4f4d-dd6d-634c1536b691",
        "colab": {
          "base_uri": "https://localhost:8080/"
        }
      },
      "execution_count": 22,
      "outputs": [
        {
          "output_type": "execute_result",
          "data": {
            "text/plain": [
              "float"
            ]
          },
          "metadata": {},
          "execution_count": 22
        }
      ]
    },
    {
      "cell_type": "markdown",
      "source": [
        "# 문자열"
      ],
      "metadata": {
        "id": "wGvnB7ryqnN_"
      }
    },
    {
      "cell_type": "code",
      "source": [
        "print('Hi')"
      ],
      "metadata": {
        "id": "_pJwd2_4qxH0",
        "outputId": "be4081f3-8a88-4d94-b4be-f874a61cae2c",
        "colab": {
          "base_uri": "https://localhost:8080/"
        }
      },
      "execution_count": 8,
      "outputs": [
        {
          "output_type": "stream",
          "name": "stdout",
          "text": [
            "Hi\n"
          ]
        }
      ]
    },
    {
      "cell_type": "code",
      "source": [
        "print(\"Hi\")"
      ],
      "metadata": {
        "id": "X1cm94wKq0IV",
        "outputId": "6631780a-9e9c-4beb-c855-8c05d1c508c1",
        "colab": {
          "base_uri": "https://localhost:8080/"
        }
      },
      "execution_count": 9,
      "outputs": [
        {
          "output_type": "stream",
          "name": "stdout",
          "text": [
            "Hi\n"
          ]
        }
      ]
    },
    {
      "cell_type": "code",
      "source": [
        "print('Willow said \"Hi\" to you')"
      ],
      "metadata": {
        "id": "wgW4YXu-q5Mc",
        "outputId": "6a4e06e6-6402-41ca-d2f3-74c02e10b518",
        "colab": {
          "base_uri": "https://localhost:8080/"
        }
      },
      "execution_count": 10,
      "outputs": [
        {
          "output_type": "stream",
          "name": "stdout",
          "text": [
            "Willow said \"Hi\" to you\n"
          ]
        }
      ]
    },
    {
      "cell_type": "code",
      "source": [
        "print(\"This is 'KOREA' where you live\")"
      ],
      "metadata": {
        "id": "cHvCJp48rBXN",
        "outputId": "bd2b7708-b4b2-4127-e6c6-6e7afaebbc0a",
        "colab": {
          "base_uri": "https://localhost:8080/"
        }
      },
      "execution_count": 11,
      "outputs": [
        {
          "output_type": "stream",
          "name": "stdout",
          "text": [
            "This is 'KOREA' where you live\n"
          ]
        }
      ]
    },
    {
      "cell_type": "code",
      "source": [
        "print(\"This is \"KOREA\" where you live\")"
      ],
      "metadata": {
        "id": "l5sc5NZCtQTz",
        "outputId": "d977238b-deb2-4566-8729-f5131a9ca5c4",
        "colab": {
          "base_uri": "https://localhost:8080/",
          "height": 108
        }
      },
      "execution_count": 23,
      "outputs": [
        {
          "output_type": "error",
          "ename": "SyntaxError",
          "evalue": "invalid syntax. Perhaps you forgot a comma? (<ipython-input-23-f867e0ee8da9>, line 1)",
          "traceback": [
            "\u001b[0;36m  File \u001b[0;32m\"<ipython-input-23-f867e0ee8da9>\"\u001b[0;36m, line \u001b[0;32m1\u001b[0m\n\u001b[0;31m    print(\"This is \"KOREA\" where you live\")\u001b[0m\n\u001b[0m          ^\u001b[0m\n\u001b[0;31mSyntaxError\u001b[0m\u001b[0;31m:\u001b[0m invalid syntax. Perhaps you forgot a comma?\n"
          ]
        }
      ]
    },
    {
      "cell_type": "code",
      "source": [
        "print('''hello world1\n",
        "hello 'world' 2\n",
        "\"hello\" world 3\n",
        "''')"
      ],
      "metadata": {
        "id": "G93X5zh2tTs_",
        "outputId": "068f5668-4d24-4bb5-8786-94d0b6bb95d7",
        "colab": {
          "base_uri": "https://localhost:8080/"
        }
      },
      "execution_count": 25,
      "outputs": [
        {
          "output_type": "stream",
          "name": "stdout",
          "text": [
            "hello world1\n",
            "hello 'world' 2\n",
            "\"hello\" world 3\n",
            "\n"
          ]
        }
      ]
    },
    {
      "cell_type": "code",
      "source": [
        "print('hello \\nworld')"
      ],
      "metadata": {
        "id": "KlCmvBTatsss",
        "outputId": "ac7b0353-c557-4210-8cef-66f0f55c0493",
        "colab": {
          "base_uri": "https://localhost:8080/"
        }
      },
      "execution_count": 33,
      "outputs": [
        {
          "output_type": "stream",
          "name": "stdout",
          "text": [
            "hello \n",
            "world\n"
          ]
        }
      ]
    },
    {
      "cell_type": "code",
      "source": [
        "print(\"\"\"hello\n",
        "world\n",
        "\"\"\")"
      ],
      "metadata": {
        "id": "2Du35ePiuO1_",
        "outputId": "93dc5c42-e2da-45d9-8c5b-e85451e314cf",
        "colab": {
          "base_uri": "https://localhost:8080/"
        }
      },
      "execution_count": 34,
      "outputs": [
        {
          "output_type": "stream",
          "name": "stdout",
          "text": [
            "hello\n",
            "world\n",
            "\n"
          ]
        }
      ]
    },
    {
      "cell_type": "code",
      "source": [
        "a=123\n",
        "print(a)\n",
        "print('a')"
      ],
      "metadata": {
        "id": "92_sW1R1uaUB",
        "outputId": "2e1b5031-ef25-4733-d23e-6e3f58724152",
        "colab": {
          "base_uri": "https://localhost:8080/"
        }
      },
      "execution_count": 36,
      "outputs": [
        {
          "output_type": "stream",
          "name": "stdout",
          "text": [
            "123\n",
            "a\n"
          ]
        }
      ]
    },
    {
      "cell_type": "markdown",
      "source": [
        "# 불형"
      ],
      "metadata": {
        "id": "dW1dmFZMrYfc"
      }
    },
    {
      "cell_type": "code",
      "source": [
        "a=100\n",
        "b=100\n",
        "c=90\n",
        "print(a==b) # a랑 b가 같니?\n",
        "print(a==c) # a랑 c가 같니?"
      ],
      "metadata": {
        "id": "0QYXMvajrpbM",
        "outputId": "d37c9a9c-158d-4291-b824-b7aee4f0335c",
        "colab": {
          "base_uri": "https://localhost:8080/"
        }
      },
      "execution_count": 12,
      "outputs": [
        {
          "output_type": "stream",
          "name": "stdout",
          "text": [
            "True\n",
            "False\n"
          ]
        }
      ]
    }
  ]
}