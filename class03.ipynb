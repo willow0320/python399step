{
  "nbformat": 4,
  "nbformat_minor": 0,
  "metadata": {
    "colab": {
      "provenance": [],
      "toc_visible": true,
      "authorship_tag": "ABX9TyPSxW4B33OYbO8ySTPsyujW",
      "include_colab_link": true
    },
    "kernelspec": {
      "name": "python3",
      "display_name": "Python 3"
    },
    "language_info": {
      "name": "python"
    }
  },
  "cells": [
    {
      "cell_type": "markdown",
      "metadata": {
        "id": "view-in-github",
        "colab_type": "text"
      },
      "source": [
        "<a href=\"https://colab.research.google.com/github/willow0320/python399step/blob/main/class03.ipynb\" target=\"_parent\"><img src=\"https://colab.research.google.com/assets/colab-badge.svg\" alt=\"Open In Colab\"/></a>"
      ]
    },
    {
      "cell_type": "markdown",
      "source": [
        "# 문자열 연산"
      ],
      "metadata": {
        "id": "Rb1DQtjZ2lhg"
      }
    },
    {
      "cell_type": "markdown",
      "source": [
        "## 1. 연결 연산자"
      ],
      "metadata": {
        "id": "yczY6fZs2mv8"
      }
    },
    {
      "cell_type": "markdown",
      "source": [
        "### 1-1. 문자열의 + 연산\n",
        "\n",
        "2 + 3 => 5\n",
        "'a' + 'b' => ab"
      ],
      "metadata": {
        "id": "bUaJlbeC23Pz"
      }
    },
    {
      "cell_type": "code",
      "source": [
        "print('Hello' + ' This is Python')"
      ],
      "metadata": {
        "id": "2gvyal3g28DA",
        "outputId": "4937bb2e-be93-4174-ca0f-51fd3bfa79ee",
        "colab": {
          "base_uri": "https://localhost:8080/"
        }
      },
      "execution_count": 6,
      "outputs": [
        {
          "output_type": "stream",
          "name": "stdout",
          "text": [
            "Hello This is Python\n"
          ]
        }
      ]
    },
    {
      "cell_type": "markdown",
      "source": [
        "### 1-1. 변수 사용"
      ],
      "metadata": {
        "id": "L7L0tNIL3Sw9"
      }
    },
    {
      "cell_type": "code",
      "source": [
        "a='python'\n",
        "b=' is fun'\n",
        "print(a+b)"
      ],
      "metadata": {
        "id": "b-C94PC13GJz",
        "outputId": "c0b45f16-a928-4b93-ae0c-decd7c2886c4",
        "colab": {
          "base_uri": "https://localhost:8080/"
        }
      },
      "execution_count": 2,
      "outputs": [
        {
          "output_type": "stream",
          "name": "stdout",
          "text": [
            "python is fun\n"
          ]
        }
      ]
    },
    {
      "cell_type": "code",
      "source": [
        "print('Hello'+1)"
      ],
      "metadata": {
        "id": "vaYOxVWB3Oox",
        "outputId": "d7b7b9f1-08d6-4572-a232-83093d14852b",
        "colab": {
          "base_uri": "https://localhost:8080/",
          "height": 139
        }
      },
      "execution_count": 4,
      "outputs": [
        {
          "output_type": "error",
          "ename": "TypeError",
          "evalue": "can only concatenate str (not \"int\") to str",
          "traceback": [
            "\u001b[0;31m---------------------------------------------------------------------------\u001b[0m",
            "\u001b[0;31mTypeError\u001b[0m                                 Traceback (most recent call last)",
            "\u001b[0;32m<ipython-input-4-9eaf0ce24547>\u001b[0m in \u001b[0;36m<cell line: 1>\u001b[0;34m()\u001b[0m\n\u001b[0;32m----> 1\u001b[0;31m \u001b[0mprint\u001b[0m\u001b[0;34m(\u001b[0m\u001b[0;34m'hello'\u001b[0m\u001b[0;34m+\u001b[0m\u001b[0;36m1\u001b[0m\u001b[0;34m)\u001b[0m\u001b[0;34m\u001b[0m\u001b[0;34m\u001b[0m\u001b[0m\n\u001b[0m",
            "\u001b[0;31mTypeError\u001b[0m: can only concatenate str (not \"int\") to str"
          ]
        }
      ]
    },
    {
      "cell_type": "code",
      "source": [
        "print('Hello'+'1')"
      ],
      "metadata": {
        "id": "qnN6uAaL3akj",
        "outputId": "30fbf9c0-a4cd-4d2e-956e-7ae6c9fa030c",
        "colab": {
          "base_uri": "https://localhost:8080/"
        }
      },
      "execution_count": 5,
      "outputs": [
        {
          "output_type": "stream",
          "name": "stdout",
          "text": [
            "Hello1\n"
          ]
        }
      ]
    },
    {
      "cell_type": "markdown",
      "source": [
        "## 2. 반복 연산자"
      ],
      "metadata": {
        "id": "g7GZHKhY2yU1"
      }
    },
    {
      "cell_type": "markdown",
      "source": [
        "### 문자열을 * 연산자로 연결 -> 문자열을 반복함\n",
        "\n",
        "2 * 3 => 6\n",
        "'a' * 3 => aaa"
      ],
      "metadata": {
        "id": "Orj526hd3zKQ"
      }
    },
    {
      "cell_type": "code",
      "source": [
        "print('Hello '*3)\n",
        "# 문자 Hello 뒤에 한 칸 공백"
      ],
      "metadata": {
        "id": "G3eL7Kop38nX",
        "outputId": "23d8ce78-dd7f-4918-a86c-5a63db5c8da2",
        "colab": {
          "base_uri": "https://localhost:8080/"
        }
      },
      "execution_count": 7,
      "outputs": [
        {
          "output_type": "stream",
          "name": "stdout",
          "text": [
            "Hello Hello Hello \n"
          ]
        }
      ]
    },
    {
      "cell_type": "code",
      "source": [
        "print(3* 'KOOKMIN ')\n",
        "# 문자 KOOKMIN 뒤에 한 칸 공백"
      ],
      "metadata": {
        "id": "VbWJn3T74JI_",
        "outputId": "22be817f-d895-443b-d6e9-4d8825a7dc2a",
        "colab": {
          "base_uri": "https://localhost:8080/"
        }
      },
      "execution_count": 11,
      "outputs": [
        {
          "output_type": "stream",
          "name": "stdout",
          "text": [
            "KOOKMIN KOOKMIN KOOKMIN \n"
          ]
        }
      ]
    },
    {
      "cell_type": "code",
      "source": [
        "print('-'*20)\n",
        "print('Hello '*4)\n",
        "print('-'*20)\n",
        "# 문자 Hello 뒤에 한 칸 공백"
      ],
      "metadata": {
        "id": "CI50nrMF4BSJ",
        "outputId": "83704a22-79ca-4d62-d919-019a0fd5cdcd",
        "colab": {
          "base_uri": "https://localhost:8080/"
        }
      },
      "execution_count": 12,
      "outputs": [
        {
          "output_type": "stream",
          "name": "stdout",
          "text": [
            "--------------------\n",
            "Hello Hello Hello Hello \n",
            "--------------------\n"
          ]
        }
      ]
    },
    {
      "cell_type": "code",
      "source": [
        "print('-'*3, 'Python '*3, '-'*3)\n",
        "# 문자 Python 뒤에 한 칸 공백"
      ],
      "metadata": {
        "id": "b0pe9xLM4QP0",
        "outputId": "0610c5d9-7174-43ec-f0a5-5d5e180ff660",
        "colab": {
          "base_uri": "https://localhost:8080/"
        }
      },
      "execution_count": 13,
      "outputs": [
        {
          "output_type": "stream",
          "name": "stdout",
          "text": [
            "--- Python Python Python  ---\n"
          ]
        }
      ]
    },
    {
      "cell_type": "markdown",
      "source": [
        "## 3. 문자열 표현"
      ],
      "metadata": {
        "id": "0GBwigQs20Qg"
      }
    },
    {
      "cell_type": "markdown",
      "source": [
        "### 3-1. print( )\n",
        "\n",
        "무엇인가를 `출력`한 후 `줄바꿈`을 하라는 의미"
      ],
      "metadata": {
        "id": "1fRkHQ5M5Myo"
      }
    },
    {
      "cell_type": "code",
      "source": [
        "a = 'Python'\n",
        "b = 'is'\n",
        "c = 'easy'\n",
        "print(a)\n",
        "print(b)\n",
        "print(c)\n",
        "\n",
        "def a = 'questioner'\n",
        "    c = 'defenely cute'\n",
        "    b = 'given answers to a'"
      ],
      "metadata": {
        "id": "4Sk7dD655dq3",
        "outputId": "a05e630d-1461-4f6e-f69a-61f0146e28fc",
        "colab": {
          "base_uri": "https://localhost:8080/"
        }
      },
      "execution_count": 14,
      "outputs": [
        {
          "output_type": "stream",
          "name": "stdout",
          "text": [
            "Python\n",
            "is\n",
            "easy\n"
          ]
        }
      ]
    },
    {
      "cell_type": "code",
      "source": [
        "a = 'Python'\n",
        "b = 'is'\n",
        "c = 'easy'\n",
        "\n",
        "print(a, end=' ')\n",
        "print(b, end=' ')\n",
        "print(c)"
      ],
      "metadata": {
        "id": "nvte_tie5mcr",
        "outputId": "7da4dd39-a1f3-47eb-b1f9-fe6eeb5b9748",
        "colab": {
          "base_uri": "https://localhost:8080/"
        }
      },
      "execution_count": 15,
      "outputs": [
        {
          "output_type": "stream",
          "name": "stdout",
          "text": [
            "Python is easy\n"
          ]
        }
      ]
    },
    {
      "cell_type": "code",
      "source": [
        "a = 'Python'\n",
        "b = 'is'\n",
        "c = 'easy'\n",
        "\n",
        "print(a, end='/')\n",
        "print(b, end='/')\n",
        "print(c)"
      ],
      "metadata": {
        "id": "pjvaerrj5uAe",
        "outputId": "b6ab1d5a-eb1a-4e4a-83d5-828715927fc4",
        "colab": {
          "base_uri": "https://localhost:8080/"
        }
      },
      "execution_count": 17,
      "outputs": [
        {
          "output_type": "stream",
          "name": "stdout",
          "text": [
            "Python/is/easy\n"
          ]
        }
      ]
    },
    {
      "cell_type": "code",
      "source": [
        "q = '고양이는 귀여운 가요?'\n",
        "a = '아마도 엄청 귀엽지 않을까요?'\n",
        "c = '뭉툭한 발만 봐도 알 수 있어요. 분명 고양이는 실제로도 어청 귀여울 거예요'\n",
        "\n",
        "print(' a' \\n 'b' \\n ' c')"
      ],
      "metadata": {
        "id": "l5Z1MKzv54Hs",
        "outputId": "529d01ef-e9cd-4f78-b54c-2113f735272f",
        "colab": {
          "base_uri": "https://localhost:8080/",
          "height": 105
        }
      },
      "execution_count": 20,
      "outputs": [
        {
          "output_type": "error",
          "ename": "SyntaxError",
          "evalue": "unexpected character after line continuation character (<ipython-input-20-88e87b9fda55>, line 5)",
          "traceback": [
            "\u001b[0;36m  File \u001b[0;32m\"<ipython-input-20-88e87b9fda55>\"\u001b[0;36m, line \u001b[0;32m5\u001b[0m\n\u001b[0;31m    print(' a' \\n 'b' \\n ' c')\u001b[0m\n\u001b[0m                ^\u001b[0m\n\u001b[0;31mSyntaxError\u001b[0m\u001b[0;31m:\u001b[0m unexpected character after line continuation character\n"
          ]
        }
      ]
    },
    {
      "cell_type": "code",
      "source": [
        "a = 'Python'\n",
        "b = 'is'\n",
        "c = 'easy'\n",
        "\n",
        "print('a\\nb\\nc')"
      ],
      "metadata": {
        "id": "OIYM9eaV6Mje",
        "outputId": "a1d4a8da-8e50-47a0-d7c9-88c3cfadc4cd",
        "colab": {
          "base_uri": "https://localhost:8080/"
        }
      },
      "execution_count": 22,
      "outputs": [
        {
          "output_type": "stream",
          "name": "stdout",
          "text": [
            "a\n",
            "b\n",
            "c\n"
          ]
        }
      ]
    },
    {
      "cell_type": "markdown",
      "source": [
        "### 3-2. len( )\n",
        "문자열의 길이를 구하는 함수"
      ],
      "metadata": {
        "id": "hAKnA3xR_vpn"
      }
    },
    {
      "cell_type": "code",
      "source": [
        "a='Hello. This is Python. Python is easy'\n",
        "print(len(a))"
      ],
      "metadata": {
        "id": "_PI9Ykwx_yaQ",
        "outputId": "257ba0be-e62d-4156-a219-be4b8d1d9801",
        "colab": {
          "base_uri": "https://localhost:8080/"
        }
      },
      "execution_count": 23,
      "outputs": [
        {
          "output_type": "stream",
          "name": "stdout",
          "text": [
            "37\n"
          ]
        }
      ]
    },
    {
      "cell_type": "markdown",
      "source": [
        "### 3-3. a.lower( )"
      ],
      "metadata": {
        "id": "dL-ZzIovAlbS"
      }
    },
    {
      "cell_type": "code",
      "source": [
        "a='pYtHoN'\n",
        "print(a.lower())"
      ],
      "metadata": {
        "id": "6ldQd-4zBF1c",
        "outputId": "b791ae61-14ea-4fb0-aa51-a7fd1c8f4300",
        "colab": {
          "base_uri": "https://localhost:8080/"
        }
      },
      "execution_count": 24,
      "outputs": [
        {
          "output_type": "stream",
          "name": "stdout",
          "text": [
            "python\n"
          ]
        }
      ]
    },
    {
      "cell_type": "markdown",
      "source": [
        "### 3-4. a.upper( )"
      ],
      "metadata": {
        "id": "mwBRnujhBD5a"
      }
    },
    {
      "cell_type": "code",
      "source": [
        "a='pYtHoN'\n",
        "print(a.upper())"
      ],
      "metadata": {
        "id": "-J5SwHV5BMO4",
        "outputId": "f94d8245-d590-4339-bc6c-57ef112af09d",
        "colab": {
          "base_uri": "https://localhost:8080/"
        }
      },
      "execution_count": 25,
      "outputs": [
        {
          "output_type": "stream",
          "name": "stdout",
          "text": [
            "PYTHON\n"
          ]
        }
      ]
    },
    {
      "cell_type": "markdown",
      "source": [
        "### 3-5. 기타 문자열 함수는 p.56 참조"
      ],
      "metadata": {
        "id": "k4BolvmLB1xM"
      }
    }
  ]
}